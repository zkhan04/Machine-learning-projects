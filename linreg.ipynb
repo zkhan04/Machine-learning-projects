{
 "cells": [
  {
   "cell_type": "code",
   "execution_count": 1,
   "id": "fb3bebd6",
   "metadata": {},
   "outputs": [],
   "source": [
    "import numpy as np\n",
    "import pandas as pd"
   ]
  },
  {
   "cell_type": "code",
   "execution_count": 2,
   "id": "006c5389",
   "metadata": {},
   "outputs": [],
   "source": [
    "# what do we need in order to accomplish this?\n",
    "# take user input (store them in parallel arrays or tuples)\n",
    "\n",
    "# calculate the hypothesis\n",
    "# calculate the cost function\n",
    "# get the gradient of the cost function\n",
    "# modify the line"
   ]
  },
  {
   "cell_type": "code",
   "execution_count": 3,
   "id": "8f3bb6ec",
   "metadata": {},
   "outputs": [],
   "source": [
    "# gets training data from the user and performs normalization\n",
    "def getPoints():\n",
    "    m = int(input(\"How many examples are you entering? \"))\n",
    "    xa = []\n",
    "    ya = []\n",
    "    for i in range(m):\n",
    "        xp, yp = map(float, input(\"Enter a x and y pair: \").split())\n",
    "        xa.append(xp)\n",
    "        ya.append(yp)\n",
    "    xb = np.array(xa)\n",
    "    x, ax, mx = normalize(xb)\n",
    "    x = [x, ax, mx]\n",
    "    yb = np.array(ya)\n",
    "    y, ay, my = normalize(yb)\n",
    "    y = [y, ay, my]\n",
    "    return (x, y)"
   ]
  },
  {
   "cell_type": "code",
   "execution_count": 4,
   "id": "3ebd3400",
   "metadata": {},
   "outputs": [],
   "source": [
    "# calculates the predicted value of y based on parameters t0 and t1\n",
    "def hypothesis(x, t0, t1):\n",
    "    h = t1 * x[0] + t0\n",
    "    return h"
   ]
  },
  {
   "cell_type": "code",
   "execution_count": 5,
   "id": "8e64887a",
   "metadata": {},
   "outputs": [],
   "source": [
    "# calculates the cost function\n",
    "def cost(x, y, t0, t1):\n",
    "    h = hypothesis(x, t0, t1)\n",
    "    c = (y[0] - h) ** 2\n",
    "    m = np.size(x)\n",
    "    return c.sum()/(2*m)"
   ]
  },
  {
   "cell_type": "code",
   "execution_count": 6,
   "id": "237283fa",
   "metadata": {},
   "outputs": [],
   "source": [
    "# calculates the gradient based on the hypothesis; used to modify each parameter\n",
    "def gradient(x, y, t0, t1):\n",
    "    h = hypothesis(x, t0, t1)\n",
    "    m = np.size(x[0])\n",
    "    dt0 = (h - y[0]).sum()/m\n",
    "    dt1 = (np.multiply((h - y[0]), x[0])).sum()/m\n",
    "    return (dt0, dt1)"
   ]
  },
  {
   "cell_type": "code",
   "execution_count": 7,
   "id": "c921c867",
   "metadata": {},
   "outputs": [],
   "source": [
    "# performs normalization on the data, squeezing it into the interval [-1, 1] where 0 is the mean\n",
    "def normalize(arr):\n",
    "    a = arr.mean()\n",
    "    arr = arr - a\n",
    "    m = arr.max()\n",
    "    arr = arr / m\n",
    "    return (arr, m, a)"
   ]
  },
  {
   "cell_type": "code",
   "execution_count": 8,
   "id": "c9e20456",
   "metadata": {},
   "outputs": [],
   "source": [
    "# trains the model by using the gradient. I use 100 iterations here\n",
    "def train(x, y):\n",
    "    t0 = 0\n",
    "    t1 = 0\n",
    "    alpha = 3\n",
    "    for i in range(100):\n",
    "        dt0, dt1 = gradient(x, y, t0, t1)\n",
    "        t0 = t0 - alpha * dt0 * cost(x, y, t0, t1)\n",
    "        t1 = t1 - alpha * dt1 * cost(x, y, t0, t1)\n",
    "    return t0, t1"
   ]
  },
  {
   "cell_type": "code",
   "execution_count": 9,
   "id": "803da847",
   "metadata": {},
   "outputs": [],
   "source": [
    "# prompts the user for an x-value and calculates the predicted y value w/ the parameters t0 and t1\n",
    "def predict(x, y, t0, t1):\n",
    "    a = float(input(\"Enter a x-value: \"))\n",
    "    an = (a - x[2])/x[1]\n",
    "    bn = t1 * an + t0\n",
    "    b = bn * y[1] + y[2]\n",
    "    print(\"predicted y-value:\", b)"
   ]
  },
  {
   "cell_type": "code",
   "execution_count": null,
   "id": "a6542001",
   "metadata": {},
   "outputs": [],
   "source": [
    "# gets training data, trains the model, and asks the user if they want to predict a y value\n",
    "def allTogether():\n",
    "    x, y = getPoints()\n",
    "    t0, t1 = train(x, y)\n",
    "    cont = input(\"do you want to predict a value? y or n: \")\n",
    "    while cont == 'y':\n",
    "        predict(x, y, t0, t1)\n",
    "        cont = input(\"predict another value? y or n:\")"
   ]
  },
  {
   "cell_type": "code",
   "execution_count": null,
   "id": "68ef0482",
   "metadata": {},
   "outputs": [],
   "source": [
    "allTogether()"
   ]
  },
  {
   "cell_type": "code",
   "execution_count": null,
   "id": "0587b63d",
   "metadata": {},
   "outputs": [],
   "source": []
  }
 ],
 "metadata": {
  "kernelspec": {
   "display_name": "Python 3 (ipykernel)",
   "language": "python",
   "name": "python3"
  },
  "language_info": {
   "codemirror_mode": {
    "name": "ipython",
    "version": 3
   },
   "file_extension": ".py",
   "mimetype": "text/x-python",
   "name": "python",
   "nbconvert_exporter": "python",
   "pygments_lexer": "ipython3",
   "version": "3.9.12"
  }
 },
 "nbformat": 4,
 "nbformat_minor": 5
}
